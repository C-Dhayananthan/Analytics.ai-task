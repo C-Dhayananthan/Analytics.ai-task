{
 "cells": [
  {
   "cell_type": "code",
   "execution_count": 2,
   "id": "23c5784c",
   "metadata": {},
   "outputs": [],
   "source": [
    "import pandas as pd\n",
    "from bs4 import BeautifulSoup\n",
    "import bs4\n",
    "import requests\n",
    "from tqdm import tqdm\n",
    "import re\n",
    "import urllib"
   ]
  },
  {
   "cell_type": "code",
   "execution_count": 6,
   "id": "273d0c6e",
   "metadata": {},
   "outputs": [],
   "source": [
    "data = pd.read_csv(\"product_info.csv\")\n",
    "dupli = []\n",
    "for i in data.columns:\n",
    "    if i.endswith('_1'):\n",
    "        dupli.append(i)"
   ]
  },
  {
   "cell_type": "code",
   "execution_count": 7,
   "id": "8e1c67cb",
   "metadata": {},
   "outputs": [],
   "source": [
    "data2 = data.drop(dupli,axis=1)"
   ]
  },
  {
   "cell_type": "code",
   "execution_count": 12,
   "id": "145c2fc4",
   "metadata": {},
   "outputs": [],
   "source": [
    "data2 = data2.set_index(data2[\"Unnamed: 0\"].values).drop(\"Unnamed: 0\",axis=1)"
   ]
  },
  {
   "cell_type": "code",
   "execution_count": 132,
   "id": "f66a0105",
   "metadata": {},
   "outputs": [],
   "source": [
    "links = data2.T[\"product_link\"].values\n",
    "names = data2.T[\"product_name\"].values"
   ]
  },
  {
   "cell_type": "code",
   "execution_count": 16,
   "id": "bf0d4679",
   "metadata": {},
   "outputs": [
    {
     "data": {
      "text/plain": [
       "245"
      ]
     },
     "execution_count": 16,
     "metadata": {},
     "output_type": "execute_result"
    }
   ],
   "source": [
    "len(links)"
   ]
  },
  {
   "cell_type": "markdown",
   "id": "b4ca1ccc",
   "metadata": {},
   "source": [
    "## Product Details"
   ]
  },
  {
   "cell_type": "code",
   "execution_count": 202,
   "id": "be71215e",
   "metadata": {},
   "outputs": [],
   "source": [
    "def get_product_details(links,names):\n",
    "    \n",
    "    product_details = {}\n",
    "    for link , name in tqdm(zip(links,names)):\n",
    "        \n",
    "        req = urllib.request.Request(link)\n",
    "        req.add_header('User-agent', \"Mozilla/5.0 (Windows NT 10.0; Win64; x64) AppleWebKit/537.36 (KHTML, like Gecko) Chrome/113.0.0.0 Safari/537.36\")\n",
    "        content = urllib.request.urlopen(req).read()\n",
    "        soup  = BeautifulSoup(content , \"html.parser\")\n",
    "        \n",
    "        try:\n",
    "            descp = \".\".join([lst_tag.text.strip() for lst_tag in soup.find(id = 'feature-bullets').find_all(class_ = \"a-list-item\")])\n",
    "        except:\n",
    "            descp = None\n",
    "        try:\n",
    "            if soup.find(id=\"detailBulletsWrapper_feature_div\") != None:\n",
    "                for i in soup.find(id=\"detailBulletsWrapper_feature_div\").find_all('li'):\n",
    "                    try: \n",
    "                        if i.find(class_=\"a-text-bold\").text.split(\"\\n\")[0].strip() == 'Manufacturer':\n",
    "                            manuf = i.text.split(\"\\n\")[-1].strip()\n",
    "                        elif i.find(class_=\"a-text-bold\").text.split(\"\\n\")[0].strip() == 'ASIN':\n",
    "                            asin = i.text.split(\"\\n\")[-1].strip()\n",
    "                            break\n",
    "                    except: \n",
    "                        continue\n",
    "            \n",
    "            elif soup.find(id = \"productDetails_feature_div\") != None:\n",
    "                for i in soup.find(id = \"productDetails_feature_div\").find_all(\"tr\"):\n",
    "                    try:\n",
    "                        if i.th.text.strip() == 'Manufacturer':\n",
    "                            manuf = i.td.text.strip().encode(\"ASCII\",'ignore')\n",
    "                        elif i.th.text.strip() == 'ASIN':\n",
    "                            asin = i.td.text.strip().encode(\"ASCII\",'ignore')\n",
    "                    except:\n",
    "                        continue\n",
    "                            \n",
    "        except:\n",
    "            manuf = \"not_provided\"\n",
    "            asin = \"not_provided\"\n",
    "                \n",
    "        try:\n",
    "            if soup.find(id = 'productDescription') != None:\n",
    "                prod_descp = soup.find(id = 'productDescription').text.strip()\n",
    "            elif soup.find(class_ = \"aplus-v2 desktop celwidget\") != None:\n",
    "                prod_descp = \"\".join([txt.strip() for txt in soup.find(class_ = \"aplus-v2 desktop celwidget\").text.strip().replace('\\n',\"\").split(\"  \")])\n",
    "            else:\n",
    "                prod_descp = \"not_provided\"\n",
    "        except:\n",
    "            prod_descp = \"not_provided\"\n",
    "        \n",
    "        info = {}\n",
    "        info[\"product_name\"] = name\n",
    "        info['description'] = descp\n",
    "        info['product_manufacturer'] = manuf\n",
    "        info[\"ASIN\"] = asin\n",
    "        if len(prod_descp)>0:\n",
    "            info['prod_description'] = prod_descp\n",
    "        else:\n",
    "            info['prod_description'] = \"not_provided\"\n",
    "        \n",
    "        product_details[name] = info\n",
    "    return product_details"
   ]
  },
  {
   "cell_type": "code",
   "execution_count": 203,
   "id": "79c02a72",
   "metadata": {
    "scrolled": true
   },
   "outputs": [
    {
     "name": "stderr",
     "output_type": "stream",
     "text": [
      "245it [17:05,  4.19s/it]\n"
     ]
    }
   ],
   "source": [
    "product_details = get_product_details(links , names)"
   ]
  },
  {
   "cell_type": "code",
   "execution_count": 206,
   "id": "d566e25c",
   "metadata": {},
   "outputs": [],
   "source": [
    "prod_detail = pd.DataFrame(data = product_details).T"
   ]
  },
  {
   "cell_type": "code",
   "execution_count": 224,
   "id": "57234fef",
   "metadata": {},
   "outputs": [],
   "source": [
    "prod_detail2 = prod_detail.copy()"
   ]
  },
  {
   "cell_type": "code",
   "execution_count": 227,
   "id": "27def8d3",
   "metadata": {
    "scrolled": true
   },
   "outputs": [],
   "source": [
    "prod_detail2[\"ASIN\"] = prod_detail2[\"ASIN\"].apply(lambda x: x.decode() if type(x)==bytes else x)\n",
    "prod_detail2[\"product_manufacturer\"] = prod_detail2[\"product_manufacturer\"].apply(lambda x: x.decode() if type(x)==bytes else x)"
   ]
  },
  {
   "cell_type": "code",
   "execution_count": 235,
   "id": "50618452",
   "metadata": {},
   "outputs": [],
   "source": [
    "prod_detail2[\"url\"] = links"
   ]
  },
  {
   "cell_type": "code",
   "execution_count": 236,
   "id": "f513e07e",
   "metadata": {},
   "outputs": [
    {
     "data": {
      "text/html": [
       "<div>\n",
       "<style scoped>\n",
       "    .dataframe tbody tr th:only-of-type {\n",
       "        vertical-align: middle;\n",
       "    }\n",
       "\n",
       "    .dataframe tbody tr th {\n",
       "        vertical-align: top;\n",
       "    }\n",
       "\n",
       "    .dataframe thead th {\n",
       "        text-align: right;\n",
       "    }\n",
       "</style>\n",
       "<table border=\"1\" class=\"dataframe\">\n",
       "  <thead>\n",
       "    <tr style=\"text-align: right;\">\n",
       "      <th></th>\n",
       "      <th>product_name</th>\n",
       "      <th>description</th>\n",
       "      <th>product_manufacturer</th>\n",
       "      <th>ASIN</th>\n",
       "      <th>prod_description</th>\n",
       "      <th>url</th>\n",
       "    </tr>\n",
       "  </thead>\n",
       "  <tbody>\n",
       "    <tr>\n",
       "      <th>MOKOBARA Backpack 15.5\" Inch Laptop Backpack For Women (16 litres ) Improved (2022 - Model)</th>\n",
       "      <td>MOKOBARA Backpack 15.5\" Inch Laptop Backpack F...</td>\n",
       "      <td>Care Instructions: Wipe with Damp Cloth.CRAFTE...</td>\n",
       "      <td>Designed By Mokobara Lifestyle Private Limited</td>\n",
       "      <td>B0BR7N3KF4</td>\n",
       "      <td>not_provided</td>\n",
       "      <td>https://www.amazon.in/sspa/click?ie=UTF8&amp;spc=M...</td>\n",
       "    </tr>\n",
       "    <tr>\n",
       "      <th>MOKOBARA The Transit Backpack Laptop Bag for Men and Women</th>\n",
       "      <td>MOKOBARA The Transit Backpack Laptop Bag for M...</td>\n",
       "      <td>Care Instructions: Wipe with Damp Cloth.CRAFTE...</td>\n",
       "      <td>Designed By Mokobara Lifestyle Private Limited...</td>\n",
       "      <td>B09V7R98XC</td>\n",
       "      <td>Our Most Functional backpack EverThe Mokobara ...</td>\n",
       "      <td>https://www.amazon.in/sspa/click?ie=UTF8&amp;spc=M...</td>\n",
       "    </tr>\n",
       "    <tr>\n",
       "      <th>Wesley Milestone 2.0 Casual Waterproof Laptop Backpack/Office Bag/School Bag/College Bag/Business Bag/Travel Backpack (Dimensions:13x18 inches) (Compatible with 39.62cm(15.6inch laptop) 30 L (Blue &amp; black)</th>\n",
       "      <td>Wesley Milestone 2.0 Casual Waterproof Laptop ...</td>\n",
       "      <td>30L Capacity: The Backpack has a padded laptop...</td>\n",
       "      <td>Wesley</td>\n",
       "      <td>B084JGJ8PF</td>\n",
       "      <td>Ergonomic Contoured ShapeWith a slim, sleek an...</td>\n",
       "      <td>https://www.amazon.in/Wesley-Milestone-Waterpr...</td>\n",
       "    </tr>\n",
       "    <tr>\n",
       "      <th>American Tourister 32 Ltrs Black Casual Backpack (AMT FIZZ SCH BAG 02 - BLACK)</th>\n",
       "      <td>American Tourister 32 Ltrs Black Casual Backpa...</td>\n",
       "      <td>Laptop Compatibility: No, Strap Type: Adjustab...</td>\n",
       "      <td>Samsonite</td>\n",
       "      <td>B07CJCGM1M</td>\n",
       "      <td>not_provided</td>\n",
       "      <td>https://www.amazon.in/American-Tourister-AMT-S...</td>\n",
       "    </tr>\n",
       "    <tr>\n",
       "      <th>Skybags Brat Black 46 Cms Casual Backpack</th>\n",
       "      <td>Skybags Brat Black 46 Cms Casual Backpack</td>\n",
       "      <td>Combination of functional &amp; safety features in...</td>\n",
       "      <td>VIP Industries Ltd</td>\n",
       "      <td>B08Z1HHHTD</td>\n",
       "      <td>Ideal for a college student who does not carry...</td>\n",
       "      <td>https://www.amazon.in/Skybags-Brat-Black-Casua...</td>\n",
       "    </tr>\n",
       "  </tbody>\n",
       "</table>\n",
       "</div>"
      ],
      "text/plain": [
       "                                                                                         product_name  \\\n",
       "MOKOBARA Backpack 15.5\" Inch Laptop Backpack Fo...  MOKOBARA Backpack 15.5\" Inch Laptop Backpack F...   \n",
       "MOKOBARA The Transit Backpack Laptop Bag for Me...  MOKOBARA The Transit Backpack Laptop Bag for M...   \n",
       "Wesley Milestone 2.0 Casual Waterproof Laptop B...  Wesley Milestone 2.0 Casual Waterproof Laptop ...   \n",
       "American Tourister 32 Ltrs Black Casual Backpac...  American Tourister 32 Ltrs Black Casual Backpa...   \n",
       "Skybags Brat Black 46 Cms Casual Backpack                   Skybags Brat Black 46 Cms Casual Backpack   \n",
       "\n",
       "                                                                                          description  \\\n",
       "MOKOBARA Backpack 15.5\" Inch Laptop Backpack Fo...  Care Instructions: Wipe with Damp Cloth.CRAFTE...   \n",
       "MOKOBARA The Transit Backpack Laptop Bag for Me...  Care Instructions: Wipe with Damp Cloth.CRAFTE...   \n",
       "Wesley Milestone 2.0 Casual Waterproof Laptop B...  30L Capacity: The Backpack has a padded laptop...   \n",
       "American Tourister 32 Ltrs Black Casual Backpac...  Laptop Compatibility: No, Strap Type: Adjustab...   \n",
       "Skybags Brat Black 46 Cms Casual Backpack           Combination of functional & safety features in...   \n",
       "\n",
       "                                                                                 product_manufacturer  \\\n",
       "MOKOBARA Backpack 15.5\" Inch Laptop Backpack Fo...     Designed By Mokobara Lifestyle Private Limited   \n",
       "MOKOBARA The Transit Backpack Laptop Bag for Me...  Designed By Mokobara Lifestyle Private Limited...   \n",
       "Wesley Milestone 2.0 Casual Waterproof Laptop B...                                             Wesley   \n",
       "American Tourister 32 Ltrs Black Casual Backpac...                                          Samsonite   \n",
       "Skybags Brat Black 46 Cms Casual Backpack                                          VIP Industries Ltd   \n",
       "\n",
       "                                                          ASIN  \\\n",
       "MOKOBARA Backpack 15.5\" Inch Laptop Backpack Fo...  B0BR7N3KF4   \n",
       "MOKOBARA The Transit Backpack Laptop Bag for Me...  B09V7R98XC   \n",
       "Wesley Milestone 2.0 Casual Waterproof Laptop B...  B084JGJ8PF   \n",
       "American Tourister 32 Ltrs Black Casual Backpac...  B07CJCGM1M   \n",
       "Skybags Brat Black 46 Cms Casual Backpack           B08Z1HHHTD   \n",
       "\n",
       "                                                                                     prod_description  \\\n",
       "MOKOBARA Backpack 15.5\" Inch Laptop Backpack Fo...                                       not_provided   \n",
       "MOKOBARA The Transit Backpack Laptop Bag for Me...  Our Most Functional backpack EverThe Mokobara ...   \n",
       "Wesley Milestone 2.0 Casual Waterproof Laptop B...  Ergonomic Contoured ShapeWith a slim, sleek an...   \n",
       "American Tourister 32 Ltrs Black Casual Backpac...                                       not_provided   \n",
       "Skybags Brat Black 46 Cms Casual Backpack           Ideal for a college student who does not carry...   \n",
       "\n",
       "                                                                                                  url  \n",
       "MOKOBARA Backpack 15.5\" Inch Laptop Backpack Fo...  https://www.amazon.in/sspa/click?ie=UTF8&spc=M...  \n",
       "MOKOBARA The Transit Backpack Laptop Bag for Me...  https://www.amazon.in/sspa/click?ie=UTF8&spc=M...  \n",
       "Wesley Milestone 2.0 Casual Waterproof Laptop B...  https://www.amazon.in/Wesley-Milestone-Waterpr...  \n",
       "American Tourister 32 Ltrs Black Casual Backpac...  https://www.amazon.in/American-Tourister-AMT-S...  \n",
       "Skybags Brat Black 46 Cms Casual Backpack           https://www.amazon.in/Skybags-Brat-Black-Casua...  "
      ]
     },
     "execution_count": 236,
     "metadata": {},
     "output_type": "execute_result"
    }
   ],
   "source": [
    "prod_detail2.head()"
   ]
  },
  {
   "cell_type": "code",
   "execution_count": 237,
   "id": "dc2ea490",
   "metadata": {},
   "outputs": [],
   "source": [
    "prod_detail2.to_csv(\"product_details2.csv\")"
   ]
  },
  {
   "cell_type": "code",
   "execution_count": 238,
   "id": "a2963b70",
   "metadata": {},
   "outputs": [],
   "source": [
    "prod_detail.to_csv(\"product_details.csv\")"
   ]
  },
  {
   "cell_type": "code",
   "execution_count": 239,
   "id": "3f282a0f",
   "metadata": {},
   "outputs": [],
   "source": [
    "prod_detail2.to_csv(\"product_details3.csv\",index = False)"
   ]
  },
  {
   "cell_type": "code",
   "execution_count": null,
   "id": "aee646ed",
   "metadata": {},
   "outputs": [],
   "source": []
  }
 ],
 "metadata": {
  "kernelspec": {
   "display_name": "Python 3 (ipykernel)",
   "language": "python",
   "name": "python3"
  },
  "language_info": {
   "codemirror_mode": {
    "name": "ipython",
    "version": 3
   },
   "file_extension": ".py",
   "mimetype": "text/x-python",
   "name": "python",
   "nbconvert_exporter": "python",
   "pygments_lexer": "ipython3",
   "version": "3.9.13"
  }
 },
 "nbformat": 4,
 "nbformat_minor": 5
}
